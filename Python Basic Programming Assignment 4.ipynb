{
 "cells": [
  {
   "cell_type": "markdown",
   "id": "f16ee1ae",
   "metadata": {},
   "source": [
    "1. Write a Python Program to Find the Factorial of a Number?"
   ]
  },
  {
   "cell_type": "code",
   "execution_count": 5,
   "id": "57fd95c0",
   "metadata": {},
   "outputs": [
    {
     "data": {
      "text/plain": [
       "720"
      ]
     },
     "execution_count": 5,
     "metadata": {},
     "output_type": "execute_result"
    }
   ],
   "source": [
    "# Approach 1 : Iterative\n",
    "def Factorial(n) :\n",
    "    product = 1\n",
    "    for i in range(n) :\n",
    "        product *= (i+1)\n",
    "    return product\n",
    "Factorial(6)"
   ]
  },
  {
   "cell_type": "code",
   "execution_count": 7,
   "id": "460342d4",
   "metadata": {},
   "outputs": [
    {
     "data": {
      "text/plain": [
       "720"
      ]
     },
     "execution_count": 7,
     "metadata": {},
     "output_type": "execute_result"
    }
   ],
   "source": [
    "# Approach 2 : Recursive\n",
    "def Fact(n) :\n",
    "    if n == 1 : \n",
    "        return 1\n",
    "    return n*Fact(n-1)\n",
    "Fact(6)"
   ]
  },
  {
   "cell_type": "markdown",
   "id": "7dba4207",
   "metadata": {},
   "source": [
    "2. Write a Python Program to Display the multiplication Table?"
   ]
  },
  {
   "cell_type": "code",
   "execution_count": 17,
   "id": "a7cce745",
   "metadata": {},
   "outputs": [
    {
     "name": "stdout",
     "output_type": "stream",
     "text": [
      "21 X 1 = 21\n",
      "21 X 2 = 42\n",
      "21 X 3 = 63\n",
      "21 X 4 = 84\n",
      "21 X 5 = 105\n",
      "21 X 6 = 126\n",
      "21 X 7 = 147\n",
      "21 X 8 = 168\n",
      "21 X 9 = 189\n",
      "21 X 10 = 210\n"
     ]
    }
   ],
   "source": [
    "def multiplicationTable(n): \n",
    "    \"\"\"Displays the mutliplication Table of passed integer\"\"\"\n",
    "    if type(n)==float: \n",
    "        print(\"Please pass an integer value!\")\n",
    "    for i in range(10) : \n",
    "        print(\"{} X {} = {}\".format(n,i+1,n*(i+1)))\n",
    "multiplicationTable(21)"
   ]
  },
  {
   "cell_type": "markdown",
   "id": "f7f90fcc",
   "metadata": {},
   "source": [
    "3. Write a Python Program to Print the Fibonacci sequence?"
   ]
  },
  {
   "cell_type": "code",
   "execution_count": 10,
   "id": "977cc5d2",
   "metadata": {},
   "outputs": [
    {
     "name": "stdout",
     "output_type": "stream",
     "text": [
      "0\n",
      "1\n",
      "1\n",
      "2\n",
      "3\n"
     ]
    },
    {
     "data": {
      "text/plain": [
       "[0, 1, 1, 2, 3]"
      ]
     },
     "execution_count": 10,
     "metadata": {},
     "output_type": "execute_result"
    }
   ],
   "source": [
    "# Approach 1 : Iterative\n",
    "def fibonacci(n) :\n",
    "    \"\"\"\n",
    "    Prints the first n numbers of the Fibonacci sequence\n",
    "    \"\"\"\n",
    "    l = [0,1]\n",
    "    pos = 2\n",
    "    for i in range(n) :\n",
    "        if i==0 or i==1 :\n",
    "            print(i)\n",
    "            continue\n",
    "        else :\n",
    "            l.append(l[i-1]+l[i-2])\n",
    "            print(l[i]) \n",
    "    return l\n",
    "fibonacci(5)\n",
    "            \n",
    "    "
   ]
  },
  {
   "cell_type": "code",
   "execution_count": 6,
   "id": "d5907ffa",
   "metadata": {},
   "outputs": [
    {
     "name": "stdout",
     "output_type": "stream",
     "text": [
      "First 5 numbers of the fibonacci sequence are: \n",
      "0\n",
      "1\n",
      "1\n",
      "2\n",
      "3\n"
     ]
    }
   ],
   "source": [
    "# Approach 2 :Recursive\n",
    "class Fibonacci:\n",
    "    def __init__(self) :\n",
    "        self.l = [0,1]\n",
    "    \n",
    "    def fib(self,n):\n",
    "        \"\"\"\n",
    "        Calculates the fibonacci sequence of n numbers\n",
    "        \"\"\"\n",
    "        if (len(self.l))>=n : \n",
    "            return self.l[n-1]\n",
    "        else : \n",
    "            self.l.append(self.fib(n-2)+self.fib(n-1))\n",
    "            return self.l[n-1]\n",
    "    \n",
    "    def PrintFibonacci(self,n):\n",
    "        \"\"\"\n",
    "        Prints the fibonacci sequence till n\n",
    "        \"\"\"\n",
    "        self.fib(n)\n",
    "        print(\"First {} numbers of the fibonacci sequence are: \".format(n))\n",
    "        for i in range(n) :\n",
    "            print(self.l[i])\n",
    "\n",
    "            \n",
    "fb = Fibonacci()\n",
    "fb.PrintFibonacci(5)\n",
    "            \n"
   ]
  },
  {
   "cell_type": "markdown",
   "id": "67b8d09e",
   "metadata": {},
   "source": [
    "4.) Write a Python Program to Check Armstrong Number?"
   ]
  },
  {
   "cell_type": "code",
   "execution_count": 18,
   "id": "72b312cf",
   "metadata": {},
   "outputs": [
    {
     "data": {
      "text/plain": [
       "True"
      ]
     },
     "execution_count": 18,
     "metadata": {},
     "output_type": "execute_result"
    }
   ],
   "source": [
    "def armstrong(num):\n",
    "    \"\"\"\n",
    "    Returns True if passed integer is armstrong\"\"\"\n",
    "    sum = 0\n",
    "    temp = num\n",
    "    if type(num)==float : \n",
    "        return False\n",
    "    while(temp>0) :\n",
    "        d = temp%10\n",
    "        temp = int(temp/10)\n",
    "        sum += d**3\n",
    "    if sum == num :\n",
    "        return True\n",
    "    else :\n",
    "        return False\n",
    "\n",
    "armstrong(371)"
   ]
  },
  {
   "cell_type": "markdown",
   "id": "cfc865cb",
   "metadata": {},
   "source": [
    "5.) Write a Python Program to Find Armstrong Number in an Interval?"
   ]
  },
  {
   "cell_type": "code",
   "execution_count": 19,
   "id": "1c247690",
   "metadata": {},
   "outputs": [
    {
     "data": {
      "text/plain": [
       "6"
      ]
     },
     "execution_count": 19,
     "metadata": {},
     "output_type": "execute_result"
    }
   ],
   "source": [
    "def armstrongInInterval(l,r) :\n",
    "    \"\"\"Returns the count of armstrong numbers in an interval\"\"\"\n",
    "    i = l\n",
    "    cnt = 0\n",
    "    while(i<=r) : \n",
    "        if armstrong(i) == True : \n",
    "            cnt+=1\n",
    "        i+=1\n",
    "    return cnt\n",
    "\n",
    "armstrongInInterval(0,1000)\n",
    "        \n",
    "    "
   ]
  },
  {
   "cell_type": "markdown",
   "id": "3a5079c4",
   "metadata": {},
   "source": [
    "6.) Write a Python Program to Find the Sum of Natural Numbers?"
   ]
  },
  {
   "cell_type": "code",
   "execution_count": 21,
   "id": "9681a85e",
   "metadata": {},
   "outputs": [
    {
     "data": {
      "text/plain": [
       "15"
      ]
     },
     "execution_count": 21,
     "metadata": {},
     "output_type": "execute_result"
    }
   ],
   "source": [
    "# Approach 1: Using iteration for the calculation of sum\n",
    "def sumOfNaturalNumbers1(n) : \n",
    "    \"\"\"Returns the sum of first n natural numbers\"\"\"\n",
    "    sum = 0\n",
    "    for i in range(n) : \n",
    "        sum+=i+1\n",
    "    return int(sum)\n",
    "sumOfNaturalNumbers1(5)"
   ]
  },
  {
   "cell_type": "code",
   "execution_count": 23,
   "id": "4ed20f39",
   "metadata": {},
   "outputs": [
    {
     "data": {
      "text/plain": [
       "15"
      ]
     },
     "execution_count": 23,
     "metadata": {},
     "output_type": "execute_result"
    }
   ],
   "source": [
    "# Approach 2 : Using A.P. formula for caluculation of sum. Returns sum in O(1)\n",
    "def sumOfNaturalNumbers2(n) : \n",
    "    \"\"\"Returns the sum of first n natural numbers\"\"\"\n",
    "    sum = (n*(1+n))/2\n",
    "    return int(sum)\n",
    "sumOfNaturalNumbers2(5)"
   ]
  },
  {
   "cell_type": "code",
   "execution_count": null,
   "id": "3b82e131",
   "metadata": {},
   "outputs": [],
   "source": []
  }
 ],
 "metadata": {
  "kernelspec": {
   "display_name": "Python 3 (ipykernel)",
   "language": "python",
   "name": "python3"
  },
  "language_info": {
   "codemirror_mode": {
    "name": "ipython",
    "version": 3
   },
   "file_extension": ".py",
   "mimetype": "text/x-python",
   "name": "python",
   "nbconvert_exporter": "python",
   "pygments_lexer": "ipython3",
   "version": "3.9.7"
  }
 },
 "nbformat": 4,
 "nbformat_minor": 5
}
