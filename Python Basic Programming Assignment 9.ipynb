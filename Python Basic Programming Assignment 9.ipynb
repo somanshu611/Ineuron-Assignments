{
 "cells": [
  {
   "cell_type": "markdown",
   "id": "7c0c2e0f",
   "metadata": {},
   "source": [
    "1. Write a Python program to check if the given number is a Disarium Number?\n",
    "2. Write a Python program to print all disarium numbers between 1 to 100?\n",
    "3. Write a Python program to check if the given number is Happy Number?\n",
    "4. Write a Python program to print all happy numbers between 1 and 100?\n",
    "5. Write a Python program to determine whether the given number is a Harshad Number?\n",
    "6. Write a Python program to print all pronic numbers between 1 and 100?"
   ]
  },
  {
   "cell_type": "markdown",
   "id": "d0acf638",
   "metadata": {},
   "source": [
    "> ## 1. Write a Python program to check if the given number is a Disarium Number?"
   ]
  },
  {
   "cell_type": "code",
   "execution_count": 81,
   "id": "087ac087",
   "metadata": {},
   "outputs": [],
   "source": [
    "def checkDisarium(num) : \n",
    "    '''Returns True if number is Disarium otherwise returns False. '''\n",
    "    if(int(num) != num) :\n",
    "        print('Entered number is not an integer, Please enter an integer!')\n",
    "        return\n",
    "    num = int(num)\n",
    "    temp = num \n",
    "    l=0\n",
    "    while(temp>0) : \n",
    "        temp = int(temp/10)\n",
    "        l = l+1\n",
    "    temp = num\n",
    "    \n",
    "    sum = 0\n",
    "    while(temp>0) : \n",
    "        d = int(temp%10)\n",
    "        temp = int(temp/10)\n",
    "        sum += int(d**l)\n",
    "        l = l-1\n",
    "    \n",
    "    if sum==num : return True\n",
    "    else : return False        "
   ]
  },
  {
   "cell_type": "code",
   "execution_count": 82,
   "id": "fd702898",
   "metadata": {},
   "outputs": [
    {
     "data": {
      "text/plain": [
       "True"
      ]
     },
     "execution_count": 82,
     "metadata": {},
     "output_type": "execute_result"
    }
   ],
   "source": [
    "checkDisarium(175)"
   ]
  },
  {
   "cell_type": "markdown",
   "id": "fdf4a665",
   "metadata": {},
   "source": [
    "> ## 2. Write a Python program to print all disarium numbers between 1 to 100?"
   ]
  },
  {
   "cell_type": "code",
   "execution_count": 84,
   "id": "a7baf68e",
   "metadata": {},
   "outputs": [
    {
     "name": "stdout",
     "output_type": "stream",
     "text": [
      "0\n",
      "1\n",
      "2\n",
      "3\n",
      "4\n",
      "5\n",
      "6\n",
      "7\n",
      "8\n",
      "9\n",
      "89\n"
     ]
    }
   ],
   "source": [
    "def printDisariumInRange(l,r) : \n",
    "    '''Prints all Disarium numbers in the given range.'''\n",
    "    for i in range(l,r+1) : \n",
    "        if(checkDisarium(i)) : print(i)\n",
    "            \n",
    "            \n",
    "printDisariumInRange(0,100)"
   ]
  },
  {
   "cell_type": "markdown",
   "id": "92e5e629",
   "metadata": {},
   "source": [
    "> # 3. Write a Python program to check if the given number is Happy Number?"
   ]
  },
  {
   "cell_type": "code",
   "execution_count": 86,
   "id": "0e175b39",
   "metadata": {},
   "outputs": [
    {
     "data": {
      "text/plain": [
       "True"
      ]
     },
     "execution_count": 86,
     "metadata": {},
     "output_type": "execute_result"
    }
   ],
   "source": [
    "def checkHappyNumber(num) : \n",
    "    '''Returns True if number is Happy Number otherwise returns False. '''\n",
    "    if(int(num) != num) : \n",
    "        print('Entered number is not an integer, Please enter an integer!')\n",
    "        return\n",
    "    num = int(num)\n",
    "    temp = num \n",
    "    \n",
    "    l=[]\n",
    "    while(True) : \n",
    "        if(temp == 1) :  return True\n",
    "        if(temp in l) : return False\n",
    "        l.append(temp)\n",
    "        temp2 = 0\n",
    "        while(temp>0) : \n",
    "            d = int(temp%10)\n",
    "            temp = int(temp/10)\n",
    "            temp2 = temp2 + int(d**2)\n",
    "        temp = temp2\n",
    "        \n",
    "checkHappyNumber(13)"
   ]
  },
  {
   "cell_type": "markdown",
   "id": "5d5e27b5",
   "metadata": {},
   "source": [
    "> ## 4. Write a Python program to print all happy numbers between 1 and 100?"
   ]
  },
  {
   "cell_type": "code",
   "execution_count": 87,
   "id": "cebfa09b",
   "metadata": {},
   "outputs": [
    {
     "name": "stdout",
     "output_type": "stream",
     "text": [
      "1\n",
      "7\n",
      "10\n",
      "13\n",
      "19\n",
      "23\n",
      "28\n",
      "31\n",
      "32\n",
      "44\n",
      "49\n",
      "68\n",
      "70\n",
      "79\n",
      "82\n",
      "86\n",
      "91\n",
      "94\n",
      "97\n",
      "100\n"
     ]
    }
   ],
   "source": [
    "def printHappyNumbersInRange(l,r) : \n",
    "    '''Prints all Happy Numbers in the given range.'''\n",
    "    for i in range(l,r+1) : \n",
    "        if(checkHappyNumber(i)==True) : print(i)\n",
    "            \n",
    "printHappyNumbersInRange(1,100)"
   ]
  },
  {
   "cell_type": "markdown",
   "id": "d32cf40d",
   "metadata": {},
   "source": [
    "> ## 5. Write a Python program to determine whether the given number is a Harshad Number?"
   ]
  },
  {
   "cell_type": "code",
   "execution_count": 89,
   "id": "1e646218",
   "metadata": {},
   "outputs": [
    {
     "data": {
      "text/plain": [
       "True"
      ]
     },
     "execution_count": 89,
     "metadata": {},
     "output_type": "execute_result"
    }
   ],
   "source": [
    "def checkHarshadNumber(num) : \n",
    "    '''Returns True if given number is Harshad Number otherwise returns False. '''\n",
    "    if(int(num) != num) : \n",
    "        print('Entered number is not an Integer, Please enter an Integer!')\n",
    "        return\n",
    "    num = int(num)\n",
    "    temp = num \n",
    "    \n",
    "    sum = 0\n",
    "    while(temp>0) : \n",
    "        d = int(temp%10)\n",
    "        temp = int(temp/10)\n",
    "        sum += int(d)\n",
    "    \n",
    "    if((num%sum)==0) : return True\n",
    "    else : return False\n",
    "    \n",
    "checkHarshadNumber(3)"
   ]
  },
  {
   "cell_type": "markdown",
   "id": "35e1c9ea",
   "metadata": {},
   "source": [
    "> ## 6. Write a Python program to print all pronic numbers between 1 and 100?"
   ]
  },
  {
   "cell_type": "code",
   "execution_count": 90,
   "id": "bb642bf7",
   "metadata": {},
   "outputs": [
    {
     "name": "stdout",
     "output_type": "stream",
     "text": [
      "2\n",
      "6\n",
      "12\n",
      "20\n",
      "30\n",
      "42\n",
      "56\n",
      "72\n",
      "90\n"
     ]
    }
   ],
   "source": [
    "def checkPronicNumber(num) : \n",
    "    '''Returns True if the given number is pronic number otherwise returns False.'''\n",
    "    if(int(num) != num) : \n",
    "        print('Entered number is not an Integer, Please enter an Integer!')\n",
    "        return\n",
    "    import math\n",
    "    x = int( math.sqrt(int(1+4*num)) )\n",
    "    if( int(x*x) == int(1+4*num)) : return True\n",
    "    else : return False\n",
    "    \n",
    "def printPronicNumbersInRange(l,r) : \n",
    "    '''Prints all Pronic numbers in the given range.'''\n",
    "    for i in range(l,r+1) : \n",
    "        if (checkPronicNumber(i)==True) : print(i)\n",
    "            \n",
    "printPronicNumbersInRange(1,100)"
   ]
  },
  {
   "cell_type": "code",
   "execution_count": 95,
   "id": "998d2432",
   "metadata": {},
   "outputs": [
    {
     "name": "stdout",
     "output_type": "stream",
     "text": [
      "Entered number is not an Integer, Please enter an Integer!\n"
     ]
    }
   ],
   "source": []
  },
  {
   "cell_type": "code",
   "execution_count": null,
   "id": "7a93b4e3",
   "metadata": {},
   "outputs": [],
   "source": []
  }
 ],
 "metadata": {
  "kernelspec": {
   "display_name": "Python 3 (ipykernel)",
   "language": "python",
   "name": "python3"
  },
  "language_info": {
   "codemirror_mode": {
    "name": "ipython",
    "version": 3
   },
   "file_extension": ".py",
   "mimetype": "text/x-python",
   "name": "python",
   "nbconvert_exporter": "python",
   "pygments_lexer": "ipython3",
   "version": "3.9.7"
  }
 },
 "nbformat": 4,
 "nbformat_minor": 5
}
