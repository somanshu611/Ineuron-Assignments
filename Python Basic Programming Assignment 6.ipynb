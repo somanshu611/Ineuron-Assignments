{
 "cells": [
  {
   "cell_type": "markdown",
   "id": "0ab29940",
   "metadata": {},
   "source": [
    "1. Write a Python Program to Display Fibonacci Sequence Using Recursion?"
   ]
  },
  {
   "cell_type": "code",
   "execution_count": 5,
   "id": "edf55203",
   "metadata": {},
   "outputs": [
    {
     "name": "stdout",
     "output_type": "stream",
     "text": [
      "First 5 numbers of the fibonacci sequence are: \n",
      "0\n",
      "1\n",
      "1\n",
      "2\n",
      "3\n"
     ]
    }
   ],
   "source": [
    "class Fibonacci:\n",
    "    def __init__(self) :\n",
    "        self.l = [0,1]\n",
    "    \n",
    "    def fib(self,n):\n",
    "        \"\"\"\n",
    "        Calculates the fibonacci sequence of n numbers\n",
    "        \"\"\"\n",
    "        if (len(self.l))>=n : \n",
    "            return self.l[n-1]\n",
    "        else : \n",
    "            self.l.append(self.fib(n-2)+self.fib(n-1))\n",
    "            return self.l[n-1]\n",
    "    \n",
    "    def PrintFibonacci(self,n):\n",
    "        \"\"\"\n",
    "        Prints the fibonacci sequence till n\n",
    "        \"\"\"\n",
    "        self.fib(n)\n",
    "        print(\"First {} numbers of the fibonacci sequence are: \".format(n))\n",
    "        for i in range(n) :\n",
    "            print(self.l[i])\n",
    "\n",
    "            \n",
    "fb = Fibonacci()\n",
    "fb.PrintFibonacci(5)\n",
    "\n",
    "\n",
    "    "
   ]
  },
  {
   "cell_type": "markdown",
   "id": "d5db9e82",
   "metadata": {},
   "source": [
    "2. Write a Python Program to Find Factorial of Number Using Recursion?"
   ]
  },
  {
   "cell_type": "code",
   "execution_count": 6,
   "id": "b9902829",
   "metadata": {},
   "outputs": [
    {
     "data": {
      "text/plain": [
       "720"
      ]
     },
     "execution_count": 6,
     "metadata": {},
     "output_type": "execute_result"
    }
   ],
   "source": [
    "def Fact(n) :\n",
    "    \"\"\"Returns Factorial of a number using recursion\"\"\"\n",
    "    if n == 1 : \n",
    "        return 1\n",
    "    return n*Fact(n-1)\n",
    "Fact(6)"
   ]
  },
  {
   "cell_type": "markdown",
   "id": "2135a94b",
   "metadata": {},
   "source": [
    "3. Write a Python Program to calculate your Body Mass Index?"
   ]
  },
  {
   "cell_type": "code",
   "execution_count": 7,
   "id": "d2d0f4e5",
   "metadata": {},
   "outputs": [],
   "source": [
    "def BMI(weight, weight_unit, height, height_unit) : \n",
    "    \"\"\"Returns BMI(kg/m^2) value and tells which category you belong to according to WHO\"\"\"\n",
    "    # convert height to meter\n",
    "    try: \n",
    "        if height_unit == \"km\":\n",
    "            height*=1000\n",
    "        elif height_unit == \"cm\": \n",
    "            height/=100\n",
    "        elif height_unit == \"feet\": \n",
    "            height/=3.281\n",
    "        elif height_unit == \"inch\":\n",
    "            height/=39.37\n",
    "    except Exception as e: \n",
    "        print(\"Invalid unit, please enter a valid height unit!\")\n",
    "    \n",
    "    # covert weight to kilogram\n",
    "    try: \n",
    "        if weight_unit == \"lb\":\n",
    "            weight/=2.2046\n",
    "        elif weight_unit == \"g\":\n",
    "            weight/=1000\n",
    "    except Exception as e: \n",
    "        print(\"Invalid unit, please enter a valid weight unit!\")\n",
    "    \n",
    "        \n",
    "    bmi = weight/(height**2)\n",
    "    \n",
    "    if bmi<16: \n",
    "        printBMI(bmi,\"Severe Thinness\")\n",
    "    elif bmi<17:\n",
    "        printBMI(bmi,\"Moderate Thinness\")\n",
    "    elif bmi<18.5:\n",
    "        printBMI(bmi,\"Mild Thinness\")\n",
    "    elif bmi<25:\n",
    "        printBMI(bmi,\"Normal\")\n",
    "    elif bmi<30: \n",
    "        printBMI(bmi,\"Overweight\")\n",
    "    elif bmi<35: \n",
    "        printBMI(bmi,\"Obese Class I\")\n",
    "    elif bmi<40: \n",
    "        printBMI(bmi,\"Obese Class II\")\n",
    "    else:\n",
    "        printBMI(bmi,\"Obese Class III\")\n",
    "\n",
    "def printBMI(bmi, category) : \n",
    "    print(\"Your bmi value is {}. You fall in the category of {}\".format(bmi,category))\n",
    "    "
   ]
  },
  {
   "cell_type": "markdown",
   "id": "d3f11860",
   "metadata": {},
   "source": [
    "4. Write a Python Program to calculate the natural logarithm of any number?"
   ]
  },
  {
   "cell_type": "code",
   "execution_count": 8,
   "id": "fe90ab48",
   "metadata": {},
   "outputs": [
    {
     "name": "stdout",
     "output_type": "stream",
     "text": [
      "Invalid value! Please enter a non-negative value!\n"
     ]
    }
   ],
   "source": [
    "import math \n",
    "def nlog(n) : \n",
    "    \"\"\"Returns natural logarithm of any number\"\"\"\n",
    "    if n<0 : \n",
    "        print(\"Invalid value! Please enter a non-negative value!\")\n",
    "        return \n",
    "    return math.log(n)\n",
    "    \n",
    "nlog(-1)\n",
    "    "
   ]
  },
  {
   "cell_type": "markdown",
   "id": "e9249aca",
   "metadata": {},
   "source": [
    "5. Write a Python Program for cube sum of first n natural numbers?"
   ]
  },
  {
   "cell_type": "code",
   "execution_count": 9,
   "id": "7ef91e72",
   "metadata": {},
   "outputs": [
    {
     "data": {
      "text/plain": [
       "9"
      ]
     },
     "execution_count": 9,
     "metadata": {},
     "output_type": "execute_result"
    }
   ],
   "source": [
    "def CubicSum(n) : \n",
    "    \"\"\"Returns the cube sum of first n natural numbers\"\"\"\n",
    "    sum = 0\n",
    "    for i in range(n) : \n",
    "        sum+=(i+1)**3\n",
    "    return sum\n",
    "CubicSum(2)"
   ]
  },
  {
   "cell_type": "code",
   "execution_count": null,
   "id": "7e4a9368",
   "metadata": {},
   "outputs": [],
   "source": []
  }
 ],
 "metadata": {
  "kernelspec": {
   "display_name": "Python 3 (ipykernel)",
   "language": "python",
   "name": "python3"
  },
  "language_info": {
   "codemirror_mode": {
    "name": "ipython",
    "version": 3
   },
   "file_extension": ".py",
   "mimetype": "text/x-python",
   "name": "python",
   "nbconvert_exporter": "python",
   "pygments_lexer": "ipython3",
   "version": "3.9.7"
  }
 },
 "nbformat": 4,
 "nbformat_minor": 5
}
